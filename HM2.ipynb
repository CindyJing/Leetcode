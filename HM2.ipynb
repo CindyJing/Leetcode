{
 "cells": [
  {
   "cell_type": "code",
   "execution_count": null,
   "id": "56c9e319",
   "metadata": {},
   "outputs": [],
   "source": [
    "# Q1 https://leetcode.com/problems/isomorphic-strings/description/"
   ]
  },
  {
   "cell_type": "code",
   "execution_count": null,
   "id": "2791b9e5",
   "metadata": {},
   "outputs": [],
   "source": [
    "class Solution:\n",
    "    def isIsomorphic(self, s: str, t: str) -> bool:       \n",
    "        if len(s) != len(t):\n",
    "            return False\n",
    "        count_t = dict()\n",
    "        count_s = dict()\n",
    "\n",
    "        for i in range(len(s)):\n",
    "            if t[i] not in count_t.keys():\n",
    "                count_t[t[i]] = [i]\n",
    "            else:\n",
    "               \n",
    "                count_t[t[i]].append(i)\n",
    "                \n",
    "            if s[i] not in count_s.keys():\n",
    "                count_s[s[i]] = [i]\n",
    "            \n",
    "            else:\n",
    "                count_s[s[i]].append(i)\n",
    "                \n",
    "        return (list(count_t.values()) == list(count_s.values()))"
   ]
  },
  {
   "cell_type": "code",
   "execution_count": null,
   "id": "c140d7b2",
   "metadata": {},
   "outputs": [],
   "source": [
    "# Q2 https://leetcode.com/problems/longest-substring-without-repeating-characters/description/"
   ]
  },
  {
   "cell_type": "code",
   "execution_count": null,
   "id": "58eb0b2e",
   "metadata": {},
   "outputs": [],
   "source": [
    "class Solution:\n",
    "    def lengthOfLongestSubstring(self, s: str) -> int:\n",
    "        if len(s) == 0:\n",
    "            return 0\n",
    "\n",
    "        max_dic = Counter()\n",
    "        \n",
    "        max_str = \"\"\n",
    "        for i in range(len(s)):\n",
    "            if s[i] not in max_str:\n",
    "                max_str += s[i]\n",
    "                max_dic[len(max_str)]= max_str # update each time \n",
    "            else:\n",
    "                max_dic[len(max_str)]= max_str\n",
    "                max_str = max_str.split(s[i])[-1] + s[i]\n",
    "        return max(list(max_dic.keys()))"
   ]
  },
  {
   "cell_type": "code",
   "execution_count": null,
   "id": "167760b4",
   "metadata": {},
   "outputs": [],
   "source": [
    "# Q3 https://leetcode.com/problems/minimum-window-substring/"
   ]
  },
  {
   "cell_type": "code",
   "execution_count": null,
   "id": "dc8a3344",
   "metadata": {},
   "outputs": [],
   "source": [
    "def minWindow(self, s: str, t: str) -> str:    \n",
    "    if not t or not s:\n",
    "        return \"\"\n",
    "    dict_t = Counter(t)\n",
    "    required = len(dict_t)\n",
    "    l = 0\n",
    "    r = 0\n",
    "    formed = 0\n",
    "    window = {}\n",
    "\n",
    "    ans = float(\"inf\"), None, None\n",
    "\n",
    "    while r < len(s):\n",
    "        char = s[r]\n",
    "        window[char] = window.get(char, 0) + 1\n",
    "\n",
    "        if char in dict_t and window[char] == dict_t[char]:\n",
    "            formed += 1\n",
    "\n",
    "        while l <= r and formed == required:\n",
    "            char = s[l]\n",
    "            if r - l + 1 < ans[0]:\n",
    "                ans = (r-l+1,l,r)\n",
    "            window[char] -= 1\n",
    "            if char in dict_t and window[char] < dict_t[char]:\n",
    "                formed -= 1\n",
    "            l += 1\n",
    "        r += 1\n",
    "\n",
    "\n",
    "        return \"\" if ans[0] == float(\"inf\") else s[ans[1] : ans[2] + 1]"
   ]
  }
 ],
 "metadata": {
  "kernelspec": {
   "display_name": "Python 3 (ipykernel)",
   "language": "python",
   "name": "python3"
  },
  "language_info": {
   "codemirror_mode": {
    "name": "ipython",
    "version": 3
   },
   "file_extension": ".py",
   "mimetype": "text/x-python",
   "name": "python",
   "nbconvert_exporter": "python",
   "pygments_lexer": "ipython3",
   "version": "3.10.10"
  },
  "toc": {
   "base_numbering": 1,
   "nav_menu": {},
   "number_sections": true,
   "sideBar": true,
   "skip_h1_title": false,
   "title_cell": "Table of Contents",
   "title_sidebar": "Contents",
   "toc_cell": false,
   "toc_position": {},
   "toc_section_display": true,
   "toc_window_display": false
  }
 },
 "nbformat": 4,
 "nbformat_minor": 5
}
