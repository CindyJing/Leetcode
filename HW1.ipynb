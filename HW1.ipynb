{
 "cells": [
  {
   "cell_type": "markdown",
   "id": "cce16df5",
   "metadata": {},
   "source": [
    "# Q1\n",
    "https://leetcode.com/problems/running-sum-of-1d-array/"
   ]
  },
  {
   "cell_type": "code",
   "execution_count": null,
   "id": "a0a0dcf4",
   "metadata": {},
   "outputs": [],
   "source": [
    "class Solution:\n",
    "    def runningSum(self, nums: List[int]) -> List[int]:\n",
    "        sum_num = 0\n",
    "        sum_ls = []\n",
    "        for i in range(len(nums)):\n",
    "            sum_num = sum_num + nums[i]\n",
    "            sum_ls.append(sum_num)\n",
    "        return sum_ls"
   ]
  },
  {
   "cell_type": "markdown",
   "id": "89d87af8",
   "metadata": {},
   "source": [
    "# Q2"
   ]
  },
  {
   "cell_type": "code",
   "execution_count": 24,
   "id": "a8dea68b",
   "metadata": {},
   "outputs": [],
   "source": [
    "class Solution:\n",
    "    def isLongPressedName(self, name: str, typed: str) -> bool:\n",
    "        #name = list(name).sort()\n",
    "        i = 0\n",
    "        #j = len(name) - 1\n",
    "        x = 0\n",
    "        #y = len(typed) - 1\n",
    "        while i <= len(name) and x < len(typed):\n",
    "            if i < len(name) and name[i] == typed[x]:\n",
    "                i += 1\n",
    "                x += 1\n",
    "            else:\n",
    "                if i == 0:\n",
    "                    return False\n",
    "                elif name[i-1] == typed[x]:\n",
    "                    x += 1\n",
    "                else:\n",
    "                    return False\n",
    "        \n",
    "        return i == len(name) and x == len(typed)"
   ]
  },
  {
   "cell_type": "markdown",
   "id": "0d29ec7c",
   "metadata": {},
   "source": [
    "# Q3\n",
    "https://leetcode.com/problems/contains-duplicate/"
   ]
  },
  {
   "cell_type": "code",
   "execution_count": null,
   "id": "fff6f4ec",
   "metadata": {},
   "outputs": [],
   "source": [
    "class Solution:\n",
    "    def containsDuplicate(self, nums: List[int]) -> bool:\n",
    "        nums_dic = {}\n",
    "        for i in range(len(nums)):\n",
    "            if nums[i] in nums_dic.keys():\n",
    "                return True\n",
    "            else:\n",
    "                nums_dic[nums[i]] = 1\n",
    "\n",
    "        return False"
   ]
  },
  {
   "cell_type": "markdown",
   "id": "9a7fdee2",
   "metadata": {},
   "source": [
    "# Q4 \n",
    "https://leetcode.com/problems/video-stitching/"
   ]
  },
  {
   "cell_type": "code",
   "execution_count": 26,
   "id": "4a7272aa",
   "metadata": {},
   "outputs": [
    {
     "data": {
      "text/plain": [
       "[[0, 2], [1, 5], [1, 9], [4, 6], [5, 9], [8, 10]]"
      ]
     },
     "execution_count": 26,
     "metadata": {},
     "output_type": "execute_result"
    }
   ],
   "source": [
    "class Solution:\n",
    "    def videoStitching(self, clips: List[List[int]], time: int) -> int:\n",
    "        \n",
    "        end_1, end_2, res = -1, 0, 0\n",
    "        for i, j in sorted(clips):\n",
    "            if end_2 >= time or i > end_2:\n",
    "                break\n",
    "            elif end_1 < i <= end_2:\n",
    "                res, end_1 = res + 1, end_2\n",
    "            end_2 = max(end_2, j)\n",
    "        return res if end_2 >= time else -1"
   ]
  },
  {
   "cell_type": "markdown",
   "id": "8522df89",
   "metadata": {},
   "source": [
    "# Q5 \n",
    "https://leetcode.com/problems/maximum-product-subarray/"
   ]
  },
  {
   "cell_type": "code",
   "execution_count": null,
   "id": "69efad97",
   "metadata": {},
   "outputs": [],
   "source": [
    "class Solution:\n",
    "    def maxProduct(self, nums: List[int]) -> int:\n",
    "        if len(nums) == 0:\n",
    "            return 0\n",
    "\n",
    "        max_so_far = nums[0]\n",
    "        min_so_far = nums[0]\n",
    "        result = max_so_far\n",
    "\n",
    "        for i in range(1, len(nums)):\n",
    "            curr = nums[i]\n",
    "            temp_max = max(curr, max_so_far * curr, min_so_far * curr)\n",
    "            min_so_far = min(curr, max_so_far * curr, min_so_far * curr)\n",
    "\n",
    "            max_so_far = temp_max\n",
    "\n",
    "            result = max(max_so_far, result)\n",
    "\n",
    "        return result"
   ]
  },
  {
   "cell_type": "markdown",
   "id": "c645cc30",
   "metadata": {},
   "source": [
    "# Q6\n",
    "https://leetcode.com/problems/container-with-most-water/"
   ]
  },
  {
   "cell_type": "code",
   "execution_count": null,
   "id": "f2053e2d",
   "metadata": {},
   "outputs": [],
   "source": [
    "class Solution:\n",
    "    def maxArea(self, height: List[int]) -> int:\n",
    "        i = 0\n",
    "        j = len(height) - 1\n",
    "        contain_ls = []\n",
    "        contain = 0\n",
    "        while i < j:\n",
    "            contain = min(height[i],height[j]) * (j-i)\n",
    "            contain_ls.append(contain)\n",
    "            if height[i]<height[j]:\n",
    "                i += 1\n",
    "            elif height[i]>height[j]:\n",
    "                j -= 1\n",
    "            else:\n",
    "                if height[i+1] >= height[j-1]:\n",
    "                    i += 1\n",
    "                else:\n",
    "                    j -= 1\n",
    "\n",
    "        return max(contain_ls)"
   ]
  },
  {
   "cell_type": "markdown",
   "id": "86540cdc",
   "metadata": {},
   "source": [
    "# Q7 \n",
    "https://leetcode.com/problems/sliding-window-maximum/"
   ]
  },
  {
   "cell_type": "code",
   "execution_count": null,
   "id": "28e7b9b5",
   "metadata": {},
   "outputs": [],
   "source": [
    "class Solution:\n",
    "    def maxSlidingWindow(self, nums: List[int], k: int) -> List[int]:\n",
    "        result = []\n",
    "        window = deque()\n",
    "\n",
    "        for i, num in enumerate(nums):\n",
    "            while window and window[0] < i - k + 1:\n",
    "                window.popleft()\n",
    "\n",
    "            while window and nums[window[-1]] < num:\n",
    "                window.pop()\n",
    "\n",
    "            window.append(i)\n",
    "\n",
    "            if i >= k - 1:\n",
    "                result.append(nums[window[0]])\n",
    "\n",
    "        return result   "
   ]
  }
 ],
 "metadata": {
  "kernelspec": {
   "display_name": "Python 3 (ipykernel)",
   "language": "python",
   "name": "python3"
  },
  "language_info": {
   "codemirror_mode": {
    "name": "ipython",
    "version": 3
   },
   "file_extension": ".py",
   "mimetype": "text/x-python",
   "name": "python",
   "nbconvert_exporter": "python",
   "pygments_lexer": "ipython3",
   "version": "3.10.10"
  },
  "toc": {
   "base_numbering": 1,
   "nav_menu": {},
   "number_sections": true,
   "sideBar": true,
   "skip_h1_title": false,
   "title_cell": "Table of Contents",
   "title_sidebar": "Contents",
   "toc_cell": false,
   "toc_position": {},
   "toc_section_display": true,
   "toc_window_display": false
  }
 },
 "nbformat": 4,
 "nbformat_minor": 5
}
